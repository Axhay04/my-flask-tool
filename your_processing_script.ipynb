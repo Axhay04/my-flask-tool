{
 "cells": [
  {
   "cell_type": "code",
   "execution_count": 1,
   "id": "d0b7c3cd",
   "metadata": {},
   "outputs": [],
   "source": [
    "def process_data(df):\n",
    "    # Apply your notebook logic here\n",
    "    df['new_col'] = df[df.columns[0]].apply(lambda x: x * 2)  # Example\n",
    "    return df\n"
   ]
  }
 ],
 "metadata": {
  "kernelspec": {
   "display_name": "Python 3",
   "language": "python",
   "name": "python3"
  },
  "language_info": {
   "codemirror_mode": {
    "name": "ipython",
    "version": 3
   },
   "file_extension": ".py",
   "mimetype": "text/x-python",
   "name": "python",
   "nbconvert_exporter": "python",
   "pygments_lexer": "ipython3",
   "version": "3.11.9"
  }
 },
 "nbformat": 4,
 "nbformat_minor": 5
}
